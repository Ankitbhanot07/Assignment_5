{
 "cells": [
  {
   "cell_type": "markdown",
   "id": "9945525e",
   "metadata": {},
   "source": [
    "1. What does an empty dictionary code look like?\n",
    "2. What is the value of a dictionary value with the key 'foo' and the value 42?\n",
    "3. What is the most significant distinction between a dictionary and a list?\n",
    "4. What happens if you try to access spam['foo'] if spam is {'bar': 100}?\n",
    "5. If a dictionary is stored in spam, what is the difference between the expressions 'cat'in spam and\n",
    "   'cat'in spam.keys()?\n",
    "6. If a dictionary is stored in spam, what is the difference between the expressions 'cat' in spam      and 'cat' in spam.values()?\n",
    "7. What is a shortcut for the following code?\n",
    "    if 'color' not in spam:\n",
    "    spam['color'] ='black'\n",
    "\n",
    "8. How do you \"pretty print\" dictionary values using which module and function?"
   ]
  },
  {
   "cell_type": "markdown",
   "id": "77be2baa",
   "metadata": {},
   "source": [
    "Q1 : What does an empty dictionary code look like?\n",
    "    \n",
    "Ans : By using blank curly braces{} or by using dict() built-in-mrthod by giving no arguments."
   ]
  },
  {
   "cell_type": "markdown",
   "id": "d34358ad",
   "metadata": {},
   "source": [
    "Q2:   What is the value of a dictionary value with the key 'foo' and the value 42?\n",
    "\n",
    "Ans : 42 is the value bcz in dictionery we assign {'key':'value'} pair nd in this the \n",
    "      'key' is 'foo' and the 'value' is 42 {\"foo\":42}."
   ]
  },
  {
   "cell_type": "markdown",
   "id": "258f532a",
   "metadata": {},
   "source": [
    "Q3 : What is the most significant distinction between a dictionary and a list?\n",
    "    \n",
    "Ans : A list is an ordered sequence of objects, whereas dictionaries are unordered sets. \n",
    "      The main difference is that items in dictionaries are accessed via keys and not via their             position."
   ]
  },
  {
   "cell_type": "markdown",
   "id": "272c29d7",
   "metadata": {},
   "source": [
    "Q4 : What happens if you try to access spam['foo'] if spam is {'bar': 100}?\n",
    "    \n",
    "    \n",
    "Ans : It gives error bcz the operation check the value exist as key in dictionery or not."
   ]
  },
  {
   "cell_type": "markdown",
   "id": "fc80fceb",
   "metadata": {},
   "source": [
    "Q5 : If a dictionary is stored in spam, what is the difference between the expressions 'cat'in spam and 'cat'in spam.keys()?\n",
    "        \n",
    "        \n",
    "Ans : There is no difference. The in operator checks whether a value exists as a key in the                 dictionary."
   ]
  },
  {
   "cell_type": "markdown",
   "id": "4015364a",
   "metadata": {},
   "source": [
    "Q6: If a dictionary is stored in spam, what is the difference between the expressions 'cat' in spam       and 'cat' in spam.values()?\n",
    "\n",
    "Ans : cat' in spam checks whether there is a 'cat' key in the dictionary, while 'cat' in                   spam.values() checks whether there is a value 'cat' for one of the keys in spam."
   ]
  },
  {
   "cell_type": "markdown",
   "id": "5d19fe86",
   "metadata": {},
   "source": [
    "Q7 : What is a shortcut for the following code?\n",
    "     if 'color' not in spam:\n",
    "     spam['color'] ='black'\n",
    "    \n",
    "    \n",
    "Ans : spam.setdefault('color', 'black')"
   ]
  },
  {
   "cell_type": "markdown",
   "id": "24ca19aa",
   "metadata": {},
   "source": [
    "Q8 :  How do you \"pretty print\" dictionary values using which module and function?\n",
    "\n",
    "\n",
    "Ans : pprint.pprint()"
   ]
  },
  {
   "cell_type": "code",
   "execution_count": null,
   "id": "b257ac51",
   "metadata": {},
   "outputs": [],
   "source": []
  },
  {
   "cell_type": "code",
   "execution_count": null,
   "id": "398d9ba9",
   "metadata": {},
   "outputs": [],
   "source": []
  }
 ],
 "metadata": {
  "kernelspec": {
   "display_name": "Python 3 (ipykernel)",
   "language": "python",
   "name": "python3"
  },
  "language_info": {
   "codemirror_mode": {
    "name": "ipython",
    "version": 3
   },
   "file_extension": ".py",
   "mimetype": "text/x-python",
   "name": "python",
   "nbconvert_exporter": "python",
   "pygments_lexer": "ipython3",
   "version": "3.9.12"
  }
 },
 "nbformat": 4,
 "nbformat_minor": 5
}
